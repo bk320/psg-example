{
 "cells": [
  {
   "cell_type": "markdown",
   "id": "ecb7e2d3",
   "metadata": {},
   "source": [
    "Convertir y ejecutar el archivo de la \"sesion08.py\" a un archivo en jupyter notebook"
   ]
  },
  {
   "cell_type": "code",
   "execution_count": 1,
   "id": "afb8e7d1",
   "metadata": {},
   "outputs": [
    {
     "name": "stdout",
     "output_type": "stream",
     "text": [
      "Tupla de enteros\n",
      "(1, 2, 3, 4, 5, 6)\n",
      "<class 'tuple'>\n"
     ]
    }
   ],
   "source": [
    "print (\"Tupla de enteros\")\n",
    "enteros = (1,2,3,4,5,6)\n",
    "print (enteros)\n",
    "print (type(enteros))"
   ]
  },
  {
   "cell_type": "code",
   "execution_count": 2,
   "id": "a6f3b07c",
   "metadata": {},
   "outputs": [
    {
     "name": "stdout",
     "output_type": "stream",
     "text": [
      "Tupla de cadenas\n",
      "('hola', 'mundo', 'desde', 'python')\n",
      "<class 'tuple'>\n"
     ]
    }
   ],
   "source": [
    "print (\"Tupla de cadenas\")\n",
    "cadenas = (\"hola\", \"mundo\", \"desde\", \"python\")\n",
    "print (cadenas)\n",
    "print (type(cadenas))"
   ]
  },
  {
   "cell_type": "code",
   "execution_count": 3,
   "id": "13abf200",
   "metadata": {},
   "outputs": [
    {
     "name": "stdout",
     "output_type": "stream",
     "text": [
      "Tupla Mixta\n",
      "(1, 'hola', True, 2.5)\n",
      "<class 'tuple'>\n"
     ]
    }
   ],
   "source": [
    "print (\"Tupla Mixta\") \n",
    "mixta = (1, \"hola\", True, 2.5)\n",
    "print (mixta)\n",
    "print (type(mixta))"
   ]
  },
  {
   "cell_type": "code",
   "execution_count": 4,
   "id": "7441e0d7",
   "metadata": {},
   "outputs": [
    {
     "name": "stdout",
     "output_type": "stream",
     "text": [
      "Tupla vacia\n",
      "()\n",
      "<class 'tuple'>\n"
     ]
    }
   ],
   "source": [
    "print (\"Tupla vacia\")\n",
    "vacia = ()\n",
    "print (vacia)\n",
    "print (type(vacia))"
   ]
  },
  {
   "cell_type": "code",
   "execution_count": 5,
   "id": "3037eb97",
   "metadata": {},
   "outputs": [
    {
     "name": "stdout",
     "output_type": "stream",
     "text": [
      "Tupla de un solo elemento\n",
      "(1,)\n",
      "<class 'tuple'>\n"
     ]
    }
   ],
   "source": [
    "print (\"Tupla de un solo elemento\")\n",
    "uno = (1,)\n",
    "print (uno)\n",
    "print (type(uno))"
   ]
  },
  {
   "cell_type": "code",
   "execution_count": 6,
   "id": "8e861d3e",
   "metadata": {},
   "outputs": [
    {
     "name": "stdout",
     "output_type": "stream",
     "text": [
      "Tupla utilizando la función tuple()\n",
      "('h', 'o', 'l', 'a')\n",
      "<class 'tuple'>\n"
     ]
    }
   ],
   "source": [
    "print (\"Tupla utilizando la función tuple()\")\n",
    "constructor = tuple(\"hola\")\n",
    "print (constructor)\n",
    "print (type(constructor))"
   ]
  },
  {
   "cell_type": "code",
   "execution_count": 7,
   "id": "7c9d076e",
   "metadata": {},
   "outputs": [
    {
     "name": "stdout",
     "output_type": "stream",
     "text": [
      "Indexado positivo de una tupla\n",
      "1 <class 'int'>\n",
      "2.0 <class 'float'>\n",
      "hola <class 'str'>\n",
      "True <class 'bool'>\n"
     ]
    }
   ],
   "source": [
    "print (\"Indexado positivo de una tupla\")\n",
    "tupla = (1,2.0, \"hola\", True)\n",
    "print (tupla[0], type(tupla[0]))\n",
    "print (tupla[1], type(tupla[1]))\n",
    "print (tupla[2], type(tupla[2]))\n",
    "print (tupla[3], type(tupla[3]))"
   ]
  },
  {
   "cell_type": "code",
   "execution_count": 8,
   "id": "c62fe5bb",
   "metadata": {},
   "outputs": [
    {
     "name": "stdout",
     "output_type": "stream",
     "text": [
      "Indexado negativo de una tupla\n",
      "True <class 'bool'>\n",
      "hola <class 'str'>\n",
      "2.0 <class 'float'>\n",
      "1 <class 'int'>\n"
     ]
    }
   ],
   "source": [
    "print (\"Indexado negativo de una tupla\")\n",
    "tupla = (1,2.0, \"hola\", True)\n",
    "print (tupla[-1], type(tupla[-1]))\n",
    "print (tupla[-2], type(tupla[-2]))\n",
    "print (tupla[-3], type(tupla[-3]))\n",
    "print (tupla[-4], type(tupla[-4]))"
   ]
  },
  {
   "cell_type": "code",
   "execution_count": 9,
   "id": "31890225",
   "metadata": {},
   "outputs": [
    {
     "name": "stdout",
     "output_type": "stream",
     "text": [
      "Slicing de una tupla\n",
      "(0, 1, 2, 3, 4, 5, 6, 7, 8, 9, 10)\n",
      "(0, 1, 2, 3, 4)\n",
      "<class 'tuple'>\n"
     ]
    }
   ],
   "source": [
    "print (\"Slicing de una tupla\")\n",
    "tupla = (0,1,2,3,4,5,6,7,8,9,10)\n",
    "print (tupla)\n",
    "sub_tupla = tupla[0:5]\n",
    "print (sub_tupla)\n",
    "print (type(sub_tupla))"
   ]
  },
  {
   "cell_type": "code",
   "execution_count": 10,
   "id": "0a17aecc",
   "metadata": {},
   "outputs": [
    {
     "name": "stdout",
     "output_type": "stream",
     "text": [
      "Slicing de una tupla con saltos\n",
      "(0, 1, 2, 3, 4, 5, 6, 7, 8, 9, 10)\n",
      "(0, 2, 4, 6, 8)\n",
      "<class 'tuple'>\n"
     ]
    }
   ],
   "source": [
    "print (\"Slicing de una tupla con saltos\")\n",
    "tupla = (0,1,2,3,4,5,6,7,8,9,10)\n",
    "print (tupla)\n",
    "sub_tupla = tupla[0:10:2]\n",
    "print (sub_tupla)\n",
    "print (type(sub_tupla))"
   ]
  },
  {
   "cell_type": "code",
   "execution_count": 11,
   "id": "0c33e68d",
   "metadata": {},
   "outputs": [
    {
     "name": "stdout",
     "output_type": "stream",
     "text": [
      "Slicing de una tupla con saltos negativos\n",
      "(0, 1, 2, 3, 4, 5, 6, 7, 8, 9, 10)\n",
      "(10, 9, 8, 7, 6, 5, 4, 3, 2, 1, 0)\n",
      "<class 'tuple'>\n"
     ]
    }
   ],
   "source": [
    "print (\"Slicing de una tupla con saltos negativos\")\n",
    "tupla = (0,1,2,3,4,5,6,7,8,9,10)\n",
    "print (tupla)\n",
    "sub_tupla = tupla[-1::-1]\n",
    "print (sub_tupla)\n",
    "print (type(sub_tupla))"
   ]
  },
  {
   "cell_type": "code",
   "execution_count": 12,
   "id": "5fdc6b5e",
   "metadata": {},
   "outputs": [
    {
     "name": "stdout",
     "output_type": "stream",
     "text": [
      "Concatenación de tuplas\n",
      "(1, 2, 3) (4, 5, 6)\n",
      "(1, 2, 3, 4, 5, 6)\n",
      "<class 'tuple'>\n"
     ]
    }
   ],
   "source": [
    "print (\"Concatenación de tuplas\")\n",
    "tupla1 = (1,2,3)\n",
    "tupla2 = (4,5,6)\n",
    "concatenar = tupla1 + tupla2\n",
    "print (tupla1, tupla2)\n",
    "print (concatenar)\n",
    "print (type(concatenar))"
   ]
  },
  {
   "cell_type": "code",
   "execution_count": 13,
   "id": "7e68750c",
   "metadata": {},
   "outputs": [
    {
     "name": "stdout",
     "output_type": "stream",
     "text": [
      "Repetición de tuplas\n",
      "(1, 2, 3)\n",
      "(1, 2, 3, 1, 2, 3, 1, 2, 3)\n",
      "<class 'tuple'>\n"
     ]
    }
   ],
   "source": [
    "print (\"Repetición de tuplas\")\n",
    "tupla = (1,2,3)\n",
    "repetir = tupla * 3\n",
    "print (tupla)\n",
    "print (repetir)\n",
    "print (type(repetir))"
   ]
  },
  {
   "cell_type": "code",
   "execution_count": 14,
   "id": "29646a0c",
   "metadata": {},
   "outputs": [
    {
     "name": "stdout",
     "output_type": "stream",
     "text": [
      "Asignación múltiple\n",
      "('Jhon', 'Doe', '10252410', 22, 1.75, 68)\n",
      "Jhon\n",
      "Doe\n",
      "10252410\n",
      "22\n",
      "1.75\n",
      "68\n"
     ]
    }
   ],
   "source": [
    "print (\"Asignación múltiple\")\n",
    "persona = (\"Jhon\", \"Doe\", \"10252410\", 22, 1.75, 68)\n",
    "nombre, apellido, ci, edad, estatura, peso = persona\n",
    "print (persona)\n",
    "print (nombre)\n",
    "print (apellido)\n",
    "print (ci)\n",
    "print (edad)\n",
    "print (estatura)\n",
    "print (peso)"
   ]
  },
  {
   "cell_type": "code",
   "execution_count": 15,
   "id": "86747162",
   "metadata": {},
   "outputs": [
    {
     "name": "stdout",
     "output_type": "stream",
     "text": [
      "Método index(valor)\n",
      "1\n",
      "2\n"
     ]
    },
    {
     "ename": "ValueError",
     "evalue": "tuple.index(x): x not in tuple",
     "output_type": "error",
     "traceback": [
      "\u001b[31m---------------------------------------------------------------------------\u001b[39m",
      "\u001b[31mValueError\u001b[39m                                Traceback (most recent call last)",
      "\u001b[36mCell\u001b[39m\u001b[36m \u001b[39m\u001b[32mIn[15]\u001b[39m\u001b[32m, line 5\u001b[39m\n\u001b[32m      3\u001b[39m \u001b[38;5;28mprint\u001b[39m (tupla.index(\u001b[32m2.0\u001b[39m))\n\u001b[32m      4\u001b[39m \u001b[38;5;28mprint\u001b[39m (tupla.index(\u001b[33m\"\u001b[39m\u001b[33mhola\u001b[39m\u001b[33m\"\u001b[39m))\n\u001b[32m----> \u001b[39m\u001b[32m5\u001b[39m \u001b[38;5;28mprint\u001b[39m (\u001b[43mtupla\u001b[49m\u001b[43m.\u001b[49m\u001b[43mindex\u001b[49m\u001b[43m(\u001b[49m\u001b[33;43m\"\u001b[39;49m\u001b[33;43ma\u001b[39;49m\u001b[33;43m\"\u001b[39;49m\u001b[43m)\u001b[49m)\n",
      "\u001b[31mValueError\u001b[39m: tuple.index(x): x not in tuple"
     ]
    }
   ],
   "source": [
    "print (\"Método index(valor)\")\n",
    "tupla = (1,2.0, \"hola\", True)\n",
    "print (tupla.index(2.0))\n",
    "print (tupla.index(\"hola\"))\n",
    "print (tupla.index(\"a\"))"
   ]
  },
  {
   "cell_type": "code",
   "execution_count": 16,
   "id": "710fbfc4",
   "metadata": {},
   "outputs": [
    {
     "name": "stdout",
     "output_type": "stream",
     "text": [
      "Método count(valor)\n",
      "2\n",
      "2\n",
      "0\n"
     ]
    }
   ],
   "source": [
    "print (\"Método count(valor)\")\n",
    "tupla = (1, 2.0, \"hola\", True, \"hola\", \"HOLA\")\n",
    "print (tupla.count(1))\n",
    "print (tupla.count(\"hola\"))\n",
    "print (tupla.count(10))#"
   ]
  },
  {
   "cell_type": "code",
   "execution_count": 17,
   "id": "933b4e97",
   "metadata": {},
   "outputs": [
    {
     "name": "stdout",
     "output_type": "stream",
     "text": [
      "Función len()\n",
      "(1, 2.0, 'hola', True)\n",
      "4\n"
     ]
    }
   ],
   "source": [
    "print (\"Función len()\")\n",
    "tupla = (1,2.0, \"hola\", True)\n",
    "longitud = len(tupla)\n",
    "print (tupla)\n",
    "print (longitud)"
   ]
  },
  {
   "cell_type": "code",
   "execution_count": 18,
   "id": "fbd2600d",
   "metadata": {},
   "outputs": [
    {
     "name": "stdout",
     "output_type": "stream",
     "text": [
      "Función max()\n",
      "(1, 2, 10, 5, 8, 0)\n",
      "10\n"
     ]
    }
   ],
   "source": [
    "print (\"Función max()\")\n",
    "tupla = (1,2,10,5,8,0)\n",
    "maximo = max(tupla)\n",
    "print (tupla)\n",
    "print (maximo)"
   ]
  },
  {
   "cell_type": "code",
   "execution_count": 19,
   "id": "96a1eb57",
   "metadata": {},
   "outputs": [
    {
     "name": "stdout",
     "output_type": "stream",
     "text": [
      "Función min()\n",
      "('a', 'z', 'c', 'b', 'f', 'd', 'A', 'Z')\n",
      "A\n"
     ]
    }
   ],
   "source": [
    "print (\"Función min()\")\n",
    "tupla = (\"a\",\"z\",\"c\",\"b\",\"f\",\"d\",\"A\",\"Z\")\n",
    "minimo = min(tupla)\n",
    "print (tupla)\n",
    "print (minimo)"
   ]
  },
  {
   "cell_type": "code",
   "execution_count": 20,
   "id": "fa490f50",
   "metadata": {},
   "outputs": [
    {
     "name": "stdout",
     "output_type": "stream",
     "text": [
      "Función sum()\n",
      "(1.0, 0.5, 2.5, 3.1)\n",
      "7.1\n"
     ]
    }
   ],
   "source": [
    "print (\"Función sum()\")\n",
    "tupla = (1.0, 0.5, 2.5, 3.1)\n",
    "suma = sum(tupla)\n",
    "print (tupla)\n",
    "print (suma)"
   ]
  },
  {
   "cell_type": "code",
   "execution_count": 21,
   "id": "dd5fd06b",
   "metadata": {},
   "outputs": [
    {
     "name": "stdout",
     "output_type": "stream",
     "text": [
      "Tuplas anidadas\n",
      "(1, 2, 3, (4, 5, 6))\n",
      "(1, 2, 3, (4, 5, 6)) <class 'tuple'>\n",
      "(4, 5, 6) <class 'tuple'>\n",
      "4 <class 'int'>\n",
      "5 <class 'int'>\n",
      "6 <class 'int'>\n"
     ]
    }
   ],
   "source": [
    "print (\"Tuplas anidadas\")\n",
    "tupla = (1,2,3, (4,5,6))\n",
    "print (tupla)\n",
    "print (tupla, type(tupla))\n",
    "print (tupla[3], type(tupla[3]))\n",
    "print (tupla[3][0], type(tupla[3][0]))\n",
    "print (tupla[3][1], type(tupla[3][1]))\n",
    "print (tupla[3][2], type(tupla[3][2]))"
   ]
  },
  {
   "cell_type": "code",
   "execution_count": 22,
   "id": "8b560437",
   "metadata": {},
   "outputs": [
    {
     "name": "stdout",
     "output_type": "stream",
     "text": [
      "2\n",
      "4\n",
      "6\n"
     ]
    }
   ],
   "source": [
    "# De la siguiente tupla accede a los calores: 2, 4, 6\n",
    "\n",
    "matrix = ((0, 1, 2), (3, 4, 5), (6, 7, 8))\n",
    "print(matrix[0][2])\n",
    "print(matrix[1][1])\n",
    "print(matrix[2][0])"
   ]
  },
  {
   "cell_type": "code",
   "execution_count": 23,
   "id": "ce5a9006",
   "metadata": {},
   "outputs": [
    {
     "name": "stdout",
     "output_type": "stream",
     "text": [
      "Tuplas anidadas\n",
      "(1, 2, 3, (4, 5, 6)) <class 'tuple'>\n",
      "(4, 5, 6) <class 'tuple'>\n",
      "4 <class 'int'>\n",
      "5 <class 'int'>\n"
     ]
    }
   ],
   "source": [
    "print (\"Tuplas anidadas\")\n",
    "tupla = (1,2,3, (4,5,6))\n",
    "print (tupla, type(tupla))\n",
    "anidado = tupla[3]\n",
    "print (anidado, type(anidado))\n",
    "valor_anidado_0 = anidado[0]\n",
    "print (valor_anidado_0, type(valor_anidado_0))\n",
    "valor_anidado_1 = tupla[3][1]\n",
    "print (valor_anidado_1, type(valor_anidado_1))"
   ]
  },
  {
   "cell_type": "code",
   "execution_count": 24,
   "id": "11f3c739",
   "metadata": {},
   "outputs": [
    {
     "name": "stdout",
     "output_type": "stream",
     "text": [
      "Estoy aprendiendo a programar\n"
     ]
    }
   ],
   "source": [
    "# Acceder a los valores necesarios para formar la frase:\n",
    "# \"Estoy aprendiendo a programar\"\n",
    "cadenas = ((\"a\", \"es\", \"el\", \"programar\"), \n",
    "           (\"estoy\", \"apre\", \"ar\"), \n",
    "           (\"ndiendo\", \"a\"))\n",
    "frase = (cadenas[1][0] + \" \" + cadenas[1][1] \n",
    "         + cadenas[2][0] + \" \" + cadenas[2][1] + \" \" \n",
    "         + cadenas[0][3])\n",
    "frase_final = frase.capitalize()\n",
    "print(frase_final)"
   ]
  }
 ],
 "metadata": {
  "kernelspec": {
   "display_name": ".venv",
   "language": "python",
   "name": "python3"
  },
  "language_info": {
   "codemirror_mode": {
    "name": "ipython",
    "version": 3
   },
   "file_extension": ".py",
   "mimetype": "text/x-python",
   "name": "python",
   "nbconvert_exporter": "python",
   "pygments_lexer": "ipython3",
   "version": "3.12.0"
  }
 },
 "nbformat": 4,
 "nbformat_minor": 5
}
