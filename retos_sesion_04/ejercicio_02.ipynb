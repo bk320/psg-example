{
 "cells": [
  {
   "cell_type": "markdown",
   "id": "cf101cbf",
   "metadata": {},
   "source": [
    "### ***Un gato un tanto misterioso***"
   ]
  },
  {
   "cell_type": "code",
   "execution_count": 6,
   "id": "0fc20865",
   "metadata": {},
   "outputs": [
    {
     "name": "stdout",
     "output_type": "stream",
     "text": [
      "  /\\=====/\\ \n",
      " (   o=o   )\n",
      "  )   *   (  \n",
      " (         )=\n",
      "  ||'''''||  \n"
     ]
    }
   ],
   "source": [
    "# Símbolos: * , () \\ | / o \" ' = C\n",
    "print(\"  /\\\\=====/\\\\ \")\n",
    "print(\" (   o=o   )\")\n",
    "print(\"  )   *   (  \")\n",
    "print(\" (         )=\")\n",
    "print(\"  ||'''''||  \")"
   ]
  }
 ],
 "metadata": {
  "kernelspec": {
   "display_name": ".venv",
   "language": "python",
   "name": "python3"
  },
  "language_info": {
   "codemirror_mode": {
    "name": "ipython",
    "version": 3
   },
   "file_extension": ".py",
   "mimetype": "text/x-python",
   "name": "python",
   "nbconvert_exporter": "python",
   "pygments_lexer": "ipython3",
   "version": "3.12.0"
  }
 },
 "nbformat": 4,
 "nbformat_minor": 5
}
