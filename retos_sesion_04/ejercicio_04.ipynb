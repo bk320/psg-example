{
 "cells": [
  {
   "cell_type": "markdown",
   "id": "f4a228a8",
   "metadata": {},
   "source": [
    "### ***Cabras de monte 🐐🏔️***\n",
    "**Descripcion:**\n",
    "*Las cabras de monte intentan llegar a la cima de la montaña y permanecer en el pico, pero solo hay espacio para una cabra. Los competidores suben la montaña utilizando dados para escalar y empujando a la cabra que estuvo antes, para alzarse con la victoria*"
   ]
  },
  {
   "cell_type": "markdown",
   "id": "dfee45b2",
   "metadata": {},
   "source": [
    "**Reglas:**\n",
    "\n",
    "1. Cada jugador inicia con 5 cabras del color que prefiera.  \n",
    "2. El juego incluye 5 tipos de losetas numeradas [6, 7, 8, 9, 10], con las siguientes cantidades respectivas: 5, 4, 3, 2 y 2.  \n",
    "3. Los jugadores colocan sus cabras en cada columna al comenzar el juego.  \n",
    "4. En su turno, cada jugador lanza los dados e intenta formar exactamente los números de las losetas para poder avanzar.  \n",
    "5. El jugador elige cuál de sus cabras mover en cualquier columna donde cumpla los requisitos.  \n",
    "6. El jugador que llegue a la cima de una columna obtiene los puntos correspondientes al número de esa loseta.  \n",
    "7. Si otro jugador llega después, empuja al que ya estaba en la cima, enviándolo de regreso a la base para que vuelva a comenzar.  \n",
    "8. Si el mismo jugador que ya está en la cima decide volver a utilizar los dados en esa columna, puntúa nuevamente.  \n",
    "9. El juego termina cuando se agoten los puntos disponibles en alguna columna.  \n",
    "10. Todos los jugadores suman sus puntos obtenidos, y el que tenga la mayor cantidad gana."
   ]
  },
  {
   "cell_type": "code",
   "execution_count": 2,
   "id": "ab97c61e",
   "metadata": {},
   "outputs": [
    {
     "name": "stdout",
     "output_type": "stream",
     "text": [
      "╔═══════════════════════════════════════════╗\n",
      "║        🏔️  TABLERO DE CABRAS DE MONTE    ║\n",
      "╚═══════════════════════════════════════════╝\n",
      "╔════════════════════════════════════════════╗\n",
      "║ [  6  ]  [  7  ]  [  8  ]  [  9  ]  [ 10 ] ║\n",
      "║ [  6  ]  [  7  ]  [  8  ]  [  9  ]  [ 10 ] ║\n",
      "║ [  6  ]  [  7  ]  [  8  ]  [ 🐐 ]  [ 🐐 ] ║\n",
      "║ [  6  ]  [  7  ]  [ 🐐 ]                  ║\n",
      "║ [  6  ]  [ 🐐 ]                           ║\n",
      "║ [ 🐐 ]                                    ║\n",
      "╚════════════════════════════════════════════╝\n"
     ]
    }
   ],
   "source": [
    "# Diseño de la interfaz de usuario\n",
    "print(\"╔═══════════════════════════════════════════╗\")\n",
    "print(\"║        🏔️  TABLERO DE CABRAS DE MONTE    ║\")\n",
    "print(\"╚═══════════════════════════════════════════╝\")\n",
    "print(\"╔════════════════════════════════════════════╗\")\n",
    "print(\"║ [  6  ]  [  7  ]  [  8  ]  [  9  ]  [ 10 ] ║\")\n",
    "print(\"║ [  6  ]  [  7  ]  [  8  ]  [  9  ]  [ 10 ] ║\")\n",
    "print(\"║ [  6  ]  [  7  ]  [  8  ]  [ 🐐 ]  [ 🐐 ] ║\")\n",
    "print(\"║ [  6  ]  [  7  ]  [ 🐐 ]                  ║\")\n",
    "print(\"║ [  6  ]  [ 🐐 ]                           ║\")\n",
    "print(\"║ [ 🐐 ]                                    ║\")\n",
    "print(\"╚════════════════════════════════════════════╝\")"
   ]
  },
  {
   "cell_type": "markdown",
   "id": "3fc4e1fc",
   "metadata": {},
   "source": [
    "### Cabra de Monte\n",
    "Descripcion:\n",
    "1. Pieza de madera de no mas de 2 cm.\n",
    "2. De un color unico de entre[rojo, verde, azul, amarillo]\n",
    "3. 5 piezas en total por color\n",
    "### Loseta de Montaña\n",
    "Descripcion:\n",
    "1. Loseta de 3 x 3 cm.\n",
    "2. Material de carton.\n",
    "3. Con un numero grande en su interior [6, 7, 8, 9, 10]\n",
    "4. En las cantidades de [5, 4, 3, 2, 2] (respectivamente)"
   ]
  },
  {
   "cell_type": "code",
   "execution_count": 8,
   "id": "ba97e575",
   "metadata": {},
   "outputs": [
    {
     "name": "stdout",
     "output_type": "stream",
     "text": [
      "  (__)\n",
      " (oo )____\n",
      " (__)    )\\\n",
      "     || ||\n",
      "__________________________________\n",
      "╔═════╗\n",
      "║  ?  ║\n",
      "╚═════╝\n"
     ]
    }
   ],
   "source": [
    "# Cabra de monte\n",
    "print(\"  (__)\")\n",
    "print(\" (oo )____\")\n",
    "print(\" (__)    )\\\\\")\n",
    "print(\"     || ||\")\n",
    "print(\"__________________________________\")\n",
    "# Loseta de montaña\n",
    "print(\"╔═════╗\")\n",
    "print(\"║  ?  ║\")\n",
    "print(\"╚═════╝\")"
   ]
  }
 ],
 "metadata": {
  "kernelspec": {
   "display_name": ".venv",
   "language": "python",
   "name": "python3"
  },
  "language_info": {
   "codemirror_mode": {
    "name": "ipython",
    "version": 3
   },
   "file_extension": ".py",
   "mimetype": "text/x-python",
   "name": "python",
   "nbconvert_exporter": "python",
   "pygments_lexer": "ipython3",
   "version": "3.12.0"
  }
 },
 "nbformat": 4,
 "nbformat_minor": 5
}
